{
 "cells": [
  {
   "cell_type": "markdown",
   "id": "4cf56921",
   "metadata": {},
   "source": [
    "# Arbeitspaket (AP) 1: Management & Nutzung Relationale Daten"
   ]
  },
  {
   "cell_type": "markdown",
   "id": "0f7fb22f",
   "metadata": {},
   "source": [
    "### Persönliche Angaben (bitte ergänzen)"
   ]
  },
  {
   "cell_type": "markdown",
   "id": "94d35a25",
   "metadata": {},
   "source": [
    "<table>\n",
    "  <tr>\n",
    "    <td>Vorname:</td>\n",
    "    <td></td>\n",
    "  </tr>\n",
    "  <tr>\n",
    "    <td>Nachname:</td>\n",
    "    <td></td>\n",
    "  </tr>\n",
    "  <tr>\n",
    "    <td>Immatrikulationsnummer:</td>\n",
    "    <td></td>\n",
    "  </tr>\n",
    "  <tr>\n",
    "    <td>Modul:</td>\n",
    "    <td>Data Science</td>\n",
    "  </tr>\n",
    "  <tr>\n",
    "    <td>Prüfungsdatum / Raum / Zeit:</td>\n",
    "    <td>07.10.2024 / Raum: SF O3.54 / 8:00 – 11:45</td>\n",
    "  </tr>\n",
    "  <tr>\n",
    "    <td>Erlaubte Hilfsmittel:</td>\n",
    "    <td>w.MA.XX.DS.24HS (Data Science)<br>Open Book, Eigener Computer, Internet-Zugang</td>\n",
    "  </tr>\n",
    "  <tr>\n",
    "  <td>Nicht erlaubt:</td>\n",
    "  <td>Nicht erlaubt ist der Einsatz beliebiger Formen von generativer KI (z.B. Copilot, ChatGPT) <br> sowie beliebige Formen von Kommunikation oder Kollaboration mit anderen Menschen.</td>\n",
    "</tr>\n",
    "</table>"
   ]
  },
  {
   "cell_type": "markdown",
   "id": "61847f62",
   "metadata": {},
   "source": [
    "## Bewertungskriterien\n",
    "\n",
    "### <b style=\"color: gray;\">(max. erreichbare Punkte: 48)</b>\n",
    "\n",
    "<table>\n",
    "  <thead>\n",
    "    <tr>\n",
    "      <th>Kategorie</th>\n",
    "      <th>Beschreibung</th>\n",
    "      <th>Punkteverteilung</th>\n",
    "    </tr>\n",
    "  </thead>\n",
    "  <tbody>\n",
    "    <tr>\n",
    "      <td>Code nicht lauffähig oder Ergebnisse nicht sinnvoll</td>\n",
    "      <td>Der Code enthält Fehler, die verhindern, dass er ausgeführt werden kann (z.B. Syntaxfehler) oder es werden Ergebnisse ausgegeben, welche nicht zur Fragestellung passen.</td>\n",
    "      <td>0 Punkte</td>\n",
    "    </tr>\n",
    "    <tr>\n",
    "      <td>Code lauffähig, aber mit gravierenden Mängeln</td>\n",
    "      <td>Der Code läuft, aber die Ergebnisse sind aufgrund wesentlicher Fehler unvollständig (z.B. fehlende Joins, gravierende Fehler in SQL-Abfragen). Nur geringer Fortschritt erkennbar.</td>\n",
    "      <td>25% der max. erreichbaren Punkte</td>\n",
    "    </tr>\n",
    "    <tr>\n",
    "      <td>Code lauffähig, aber mit mittleren Mängeln</td>\n",
    "      <td>Der Code läuft und liefert teilweise korrekte Ergebnisse, aber es gibt grössere Fehler (z.B. fehlende Spalten, unvollständige SQL-Abfragen). Die Ergebnisse sind nachvollziehbar, aber unvollständig oder ungenau.</td>\n",
    "      <td>50% der max. erreichbaren Punkte</td>\n",
    "    </tr>\n",
    "    <tr>\n",
    "      <td>Code lauffähig, aber mit minimalen Mängeln</td>\n",
    "      <td>Der Code läuft und liefert ein weitgehend korrektes Ergebnis, aber kleinere Fehler (z.B. falsche oder fehlende Sortierung, Rundung von Werten falsch) beeinträchtigen die Vollständigkeit des Ergebnisses.</td>\n",
    "      <td>75% der max. erreichbaren Punkte</td>\n",
    "    </tr>\n",
    "    <tr>\n",
    "      <td>Code lauffähig und korrekt</td>\n",
    "      <td>Der Code läuft einwandfrei und liefert das korrekte Ergebnis ohne Mängel.</td>\n",
    "      <td>100% der max. erreichbaren Punkte</td>\n",
    "    </tr>\n",
    "  </tbody>\n",
    "</table>\n",
    "\n"
   ]
  },
  {
   "cell_type": "markdown",
   "id": "9b8df3dd",
   "metadata": {},
   "source": [
    "## Python Libraries und Settings"
   ]
  },
  {
   "cell_type": "code",
   "execution_count": 1,
   "id": "b027d889",
   "metadata": {},
   "outputs": [
    {
     "name": "stdout",
     "output_type": "stream",
     "text": [
      "/workspaces/python_postgresql_pgadmin/99_alte Prüfungen\n"
     ]
    }
   ],
   "source": [
    "# Libraries\n",
    "import os\n",
    "import sqlite3\n",
    "import pandas as pd\n",
    "from sqlalchemy import create_engine, text\n",
    "\n",
    "# Settings\n",
    "import warnings\n",
    "warnings.filterwarnings(\"ignore\")\n",
    "\n",
    "# Working directory\n",
    "print(os.getcwd())"
   ]
  },
  {
   "cell_type": "markdown",
   "id": "aac9011e",
   "metadata": {},
   "source": [
    "## <b>Vorbereitung (Dieser Teil wird <u>nicht</u> bewertet!)</b>"
   ]
  },
  {
   "cell_type": "markdown",
   "id": "2e253f40",
   "metadata": {},
   "source": [
    "#### <b>1.) Starten Sie eine GitHub Codespaces Instanz auf Basis Ihres Forks des folgenden GitHub Repositories:</b>\n",
    "\n",
    "##### GitHub-Repository: https://github.com/mario-gellrich-zhaw/python_postgresql_pgadmin\n"
   ]
  },
  {
   "cell_type": "markdown",
   "id": "a2442005",
   "metadata": {},
   "source": [
    "#### <b>2.) Erstellen und Testen Sie eine Datenbankverbindung mit der 'postgres' Datenbank.</b>"
   ]
  },
  {
   "cell_type": "code",
   "execution_count": 2,
   "id": "36ca64be",
   "metadata": {},
   "outputs": [
    {
     "name": "stdout",
     "output_type": "stream",
     "text": [
      "('postgres',)\n"
     ]
    }
   ],
   "source": [
    "# Set up für Datenbankverbindung\n",
    "user = \"pgadmin\"\n",
    "password = \"geheim\"\n",
    "host = \"localhost\"\n",
    "port = \"5432\"\n",
    "database = \"postgres\"\n",
    "\n",
    "# Erstellen der Connection URL\n",
    "db_connection_url = \"postgresql://\" + user + \":\" + password +\\\n",
    "                    \"@\" + host + \":\" + port + \"/\" + database\n",
    "\n",
    "# Erstellen SQLAlchemy Engine\n",
    "engine = create_engine(db_connection_url)\n",
    "\n",
    "# Test der Datenbankverbindung\n",
    "with engine.connect() as connection:\n",
    "    result = connection.execute(text('SELECT current_database()'))\n",
    "    print(result.fetchone())\n",
    "\n",
    "# Verbindung trennen\n",
    "engine.dispose()"
   ]
  },
  {
   "cell_type": "markdown",
   "id": "53f4b234",
   "metadata": {},
   "source": [
    "#### <b>3.) Lesen Sie die Tabellenblätter aus 'car_dealership_data.xlsx' ein, und speichern Sie diese in separaten DataFrames.</b>"
   ]
  },
  {
   "cell_type": "code",
   "execution_count": 4,
   "id": "ef32ffa2-1859-48af-a78c-0f1b5748fc98",
   "metadata": {},
   "outputs": [],
   "source": [
    "# Pfad zur .xlsx Datei\n",
    "path = 'car_dealer_data.xlsx'\n",
    "\n",
    "# Einlesen der Daten aus Excel File\n",
    "df_cars = pd.read_excel(path, sheet_name='Cars')\n",
    "df_customers = pd.read_excel(path, sheet_name='Customers')\n",
    "df_sales = pd.read_excel(path, sheet_name='Sales')\n",
    "df_salespersons = pd.read_excel(path, sheet_name='SalesPersons')\n",
    "df_mechanics = pd.read_excel(path, sheet_name='Mechanics')\n",
    "df_servicerecords = pd.read_excel(path, sheet_name='ServiceRecords')\n",
    "\n",
    "# Anpassen der Spaltennamen zu 'lowercase'\n",
    "df_cars.columns = df_cars.columns.str.lower()\n",
    "df_customers.columns = df_customers.columns.str.lower()\n",
    "df_sales.columns = df_sales.columns.str.lower()\n",
    "df_salespersons.columns = df_salespersons.columns.str.lower()\n",
    "df_mechanics.columns = df_mechanics.columns.str.lower()\n",
    "df_servicerecords.columns = df_servicerecords.columns.str.lower()\n"
   ]
  },
  {
   "cell_type": "markdown",
   "id": "66164662",
   "metadata": {},
   "source": [
    "#### <b>4.) Schreiben Sie die erstellten DataFrames in separate Tabellen in Ihrer Datenbank.</b>"
   ]
  },
  {
   "cell_type": "code",
   "execution_count": 5,
   "id": "cfd07b2d-1b23-4c93-b3f9-ccc3dcc73c31",
   "metadata": {},
   "outputs": [],
   "source": [
    "# Engine für Datenbankverbindung erstellen\n",
    "engine = create_engine(db_connection_url)\n",
    "\n",
    "# Schreiben der DataFrames in die Datenbank\n",
    "df_cars.to_sql('cars', engine, if_exists='replace')\n",
    "df_customers.to_sql('customers', engine, if_exists='replace')\n",
    "df_sales.to_sql('sales', engine, if_exists='replace')\n",
    "df_salespersons.to_sql('salespersons', engine, if_exists='replace')\n",
    "df_mechanics.to_sql('mechanics', engine, if_exists='replace')\n",
    "df_servicerecords.to_sql('servicerecords', engine, if_exists='replace')\n",
    "\n",
    "# Datenbankverbindung trennen\n",
    "engine.dispose()"
   ]
  },
  {
   "cell_type": "markdown",
   "id": "4f6fa711",
   "metadata": {},
   "source": [
    "<div>\n",
    "\n",
    "#### <b> Hinweis! \n",
    "\n",
    "#### Falls etwas mit der PostgreSQL - Verbindung nicht funktioniert, verwenden Sie für die folgenden Aufgaben die SQLite Datenbank 'car_dealership.db'.</b>\n",
    "\n",
    "#### <b> Das folgende Python-Codebeispiel demonstriert den Verbindungsaufbau mit der SQLite Datenbank mit Python.</b>\n",
    "\n",
    "```python\n",
    "# Engine für Datenbankverbindung erstellen\n",
    "engine = create_engine('sqlite:///car_dealer_data.db')\n",
    "\n",
    "# SQL Abfrage\n",
    "df_sub = pd.read_sql_query(\"\"\"SELECT *\n",
    "                              FROM cars;\"\"\",\n",
    "                          con=engine)\n",
    "\n",
    "# Schliessen der Datenbankverbindung\n",
    "engine.dispose()\n",
    "\n",
    "df_sub \n",
    "```\n",
    "</div>"
   ]
  },
  {
   "cell_type": "markdown",
   "id": "e5c27b72",
   "metadata": {},
   "source": [
    "## <b>Aufgaben (Dieser Teil wird bewertet!)</b>\n",
    "<b>Hinweise zu den folgenden Aufgabenstellungen:</b>\n",
    "<ul>\n",
    "  <li>Erstellen Sie je Aufgabe eine SQL Abfrage und integrieren Sie diese in Ihren Python Code.</li>\n",
    "  <li>Speichern Sie je Aufgabe die Ergebnistabelle in einem DataFrame und stellen Sie diesen ganz oder in Teilen (z.B. erste 5 Zeilen) dar.</li>\n",
    "</ul>"
   ]
  },
  {
   "cell_type": "markdown",
   "id": "6033f466",
   "metadata": {},
   "source": [
    "#### <b>Aufgabe (1): Ermitteln Sie die Anzahl der durchgeführten Services mit ServiceDescription = 'Clutch Repair'.</b>\n",
    "<b>Details zur Aufgabenstellung:</b>\n",
    "- Sie finden die benötigten Informationen in der Tabelle 'ServiceRecords'.\n",
    "- In der Ergebnistabelle muss die Anzahl der Services mit ServiceDescription = 'Clutch Repair' als ein Wert erscheinen.\n",
    "\n",
    "<b style=\"color: gray;\">(max. erreichbare Punkte: 4)</b>"
   ]
  },
  {
   "cell_type": "code",
   "execution_count": 9,
   "id": "fdfcb555",
   "metadata": {},
   "outputs": [
    {
     "data": {
      "text/html": [
       "<div>\n",
       "<style scoped>\n",
       "    .dataframe tbody tr th:only-of-type {\n",
       "        vertical-align: middle;\n",
       "    }\n",
       "\n",
       "    .dataframe tbody tr th {\n",
       "        vertical-align: top;\n",
       "    }\n",
       "\n",
       "    .dataframe thead th {\n",
       "        text-align: right;\n",
       "    }\n",
       "</style>\n",
       "<table border=\"1\" class=\"dataframe\">\n",
       "  <thead>\n",
       "    <tr style=\"text-align: right;\">\n",
       "      <th></th>\n",
       "      <th>NumberofServiceRecords</th>\n",
       "    </tr>\n",
       "  </thead>\n",
       "  <tbody>\n",
       "    <tr>\n",
       "      <th>0</th>\n",
       "      <td>314</td>\n",
       "    </tr>\n",
       "  </tbody>\n",
       "</table>\n",
       "</div>"
      ],
      "text/plain": [
       "   NumberofServiceRecords\n",
       "0                     314"
      ]
     },
     "execution_count": 9,
     "metadata": {},
     "output_type": "execute_result"
    }
   ],
   "source": [
    "# Engine für Datenbankverbindung erstellen\n",
    "engine = create_engine('sqlite:///car_dealer_data.db')\n",
    "\n",
    "# SQL Abfrage\n",
    "df_sub = pd.read_sql_query(\"\"\"SELECT\n",
    "                                COUNT(ServiceID) AS NumberofServiceRecords\n",
    "                                FROM ServiceRecords\n",
    "                                WHERE Servicedescription = 'Clutch Repair';\"\"\",\n",
    "                          con=engine)\n",
    "\n",
    "# Schliessen der Datenbankverbindung\n",
    "engine.dispose()\n",
    "df_sub "
   ]
  },
  {
   "cell_type": "markdown",
   "id": "183bfd22",
   "metadata": {},
   "source": [
    "# Überprüfen der verfügbaren Spalten"
   ]
  },
  {
   "cell_type": "code",
   "execution_count": 29,
   "id": "51250988",
   "metadata": {},
   "outputs": [
    {
     "name": "stdout",
     "output_type": "stream",
     "text": [
      "geography_columns\n",
      "geometry_columns\n",
      "spatial_ref_sys\n",
      "cars\n",
      "customers\n",
      "sales\n",
      "salespersons\n",
      "mechanics\n",
      "servicerecords\n"
     ]
    }
   ],
   "source": [
    "#Überblick der verfügbaren Spalten.\n",
    "\n",
    "# Create SQLAlchemy Engine\n",
    "engine = create_engine(db_connection_url)\n",
    "\n",
    "# Open a connection\n",
    "with engine.connect() as connection:\n",
    "\n",
    "    # Execute the query\n",
    "    result = connection.execute(text(\"\"\"SELECT table_name\n",
    "                                        FROM information_schema.tables\n",
    "                                        WHERE table_schema = 'public'\"\"\"))\n",
    "    \n",
    "    # Fetch and print the results\n",
    "    for row in result:\n",
    "        print(row[0])\n",
    "\n",
    "# Dispose the engine\n",
    "engine.dispose()"
   ]
  },
  {
   "cell_type": "markdown",
   "id": "c31d4887",
   "metadata": {},
   "source": [
    "#### <b>Aufgabe (2): Ermitteln Sie den mittleren Preis aller Fahrzeuge nach Baujahr.</b>\n",
    "<b>Details zur Aufgabenstellung:</b>\n",
    "- Sie finden die benötigten Informationen in der Tabelle 'Cars'.\n",
    "- Die Ergebnistabelle muss zwei Spalten beinhalten (Year, AveragePrice).\n",
    "\n",
    "<b style=\"color: gray;\">(max. erreichbare Punkte: 4)</b>"
   ]
  },
  {
   "cell_type": "code",
   "execution_count": 12,
   "id": "93aad8fd",
   "metadata": {},
   "outputs": [
    {
     "data": {
      "text/html": [
       "<div>\n",
       "<style scoped>\n",
       "    .dataframe tbody tr th:only-of-type {\n",
       "        vertical-align: middle;\n",
       "    }\n",
       "\n",
       "    .dataframe tbody tr th {\n",
       "        vertical-align: top;\n",
       "    }\n",
       "\n",
       "    .dataframe thead th {\n",
       "        text-align: right;\n",
       "    }\n",
       "</style>\n",
       "<table border=\"1\" class=\"dataframe\">\n",
       "  <thead>\n",
       "    <tr style=\"text-align: right;\">\n",
       "      <th></th>\n",
       "      <th>year</th>\n",
       "      <th>AveragePrice</th>\n",
       "    </tr>\n",
       "  </thead>\n",
       "  <tbody>\n",
       "    <tr>\n",
       "      <th>0</th>\n",
       "      <td>2019</td>\n",
       "      <td>32448.813473</td>\n",
       "    </tr>\n",
       "    <tr>\n",
       "      <th>1</th>\n",
       "      <td>2020</td>\n",
       "      <td>32198.801506</td>\n",
       "    </tr>\n",
       "    <tr>\n",
       "      <th>2</th>\n",
       "      <td>2021</td>\n",
       "      <td>33337.026461</td>\n",
       "    </tr>\n",
       "    <tr>\n",
       "      <th>3</th>\n",
       "      <td>2022</td>\n",
       "      <td>32748.917821</td>\n",
       "    </tr>\n",
       "    <tr>\n",
       "      <th>4</th>\n",
       "      <td>2023</td>\n",
       "      <td>32782.659507</td>\n",
       "    </tr>\n",
       "  </tbody>\n",
       "</table>\n",
       "</div>"
      ],
      "text/plain": [
       "   year  AveragePrice\n",
       "0  2019  32448.813473\n",
       "1  2020  32198.801506\n",
       "2  2021  33337.026461\n",
       "3  2022  32748.917821\n",
       "4  2023  32782.659507"
      ]
     },
     "execution_count": 12,
     "metadata": {},
     "output_type": "execute_result"
    }
   ],
   "source": [
    "# Engine für Datenbankverbindung erstellen\n",
    "engine = create_engine('sqlite:///car_dealer_data.db')\n",
    "\n",
    "# Abfrage erstellen und in DataFrame speichern\n",
    "df_sub = pd.read_sql_query(\"\"\"SELECT\n",
    "                                    Year,\n",
    "                                    AVG(Price) AS AveragePrice\n",
    "                                FROM cars\n",
    "                                GROUP BY Year;\"\"\",\n",
    "                          con=engine)\n",
    "\n",
    "# Datenbankverbindung trennen\n",
    "engine.dispose()\n",
    "df_sub \n",
    "\n",
    "# Ergebnis anzeigen (Dataframe -Auschnitt genügt- mit Ergebnis der Abfrage)\n"
   ]
  },
  {
   "cell_type": "markdown",
   "id": "acc3fec8",
   "metadata": {},
   "source": [
    "#### <b>Aufgabe (3): Listen Sie die Anzahl Fahrzeuge für jede Kombination aus Marke und Modell auf.</b>\n",
    "<b>Details zur Aufgabenstellung:</b>\n",
    "- Sie finden die benötigten Informationen in der Tabelle 'Cars'.\n",
    "- Jede Marke und jedes Modell darf zusammen mit der entsprechenden Anzahl der Fahrzeuge nur einmal gezeigt werden.\n",
    "- Die Ergebnistabelle muss drei Spalten beinhalten (Make, Model, NumberOfCars).\n",
    "- Sortieren Sie die Ergebnistabelle absteigend nach der Anzahl der Fahrzeuge.\n",
    "\n",
    "<b style=\"color: gray;\">(max. erreichbare Punkte: 4)</b>"
   ]
  },
  {
   "cell_type": "code",
   "execution_count": null,
   "id": "ed99968e",
   "metadata": {},
   "outputs": [],
   "source": [
    "# Engine für Datenbankverbindung erstellen\n",
    "\n",
    "\n",
    "# Abfrage erstellen und in DataFrame speichern\n",
    "\n",
    "\n",
    "# Datenbankverbindung trennen\n",
    "\n",
    "\n",
    "# Ergebnis anzeigen (Dataframe -Auschnitt genügt- mit Ergebnis der Abfrage)"
   ]
  },
  {
   "cell_type": "markdown",
   "id": "2b80dc61",
   "metadata": {},
   "source": [
    "#### <b>Aufgabe (4): Ermitteln Sie die Anzahl der Fahrzeuge mit dem Status 'Available', gruppiert nach Marke.</b>\n",
    "<b>Details zur Aufgabenstellung:</b>\n",
    "- Sie finden die benötigten Informationen in der Tabelle 'Cars'.\n",
    "- Die Ergebnistabelle muss nach der Anzahl Fahrzeuge absteigend sortiert sein.\n",
    "\n",
    "<b style=\"color: gray;\">(max. erreichbare Punkte: 4)</b>"
   ]
  },
  {
   "cell_type": "code",
   "execution_count": null,
   "id": "077a187d-05be-4c30-a367-a4e1a19d4466",
   "metadata": {},
   "outputs": [],
   "source": [
    "# Engine für Datenbankverbindung erstellen\n",
    "\n",
    "\n",
    "# Abfrage erstellen und in DataFrame speichern\n",
    "\n",
    "\n",
    "# Datenbankverbindung trennen\n",
    "\n",
    "\n",
    "# Ergebnis anzeigen (Dataframe -Auschnitt genügt- mit Ergebnis der Abfrage)"
   ]
  },
  {
   "cell_type": "markdown",
   "id": "ba5b3943",
   "metadata": {},
   "source": [
    "#### <b>Aufgabe (5): Ermitteln Sie, wie viele Fahrzeuge jeder Verkäufer verkauft hat und zu welchem Gesamtpreis.</b>\n",
    "<b>Details zur Aufgabenstellung:</b>\n",
    "- Sie finden die benötigten Informationen in den Tabellen 'Salespersons' und 'Sales'.\n",
    "- Die Ergebnistabelle muss die Anzahl der verkauften Fahrzeuge, den Gesamtpreis der Verkäufe sowie den Namen, Vornamen, Tel.nr. und Email der Verkäufer enthalten.\n",
    "- Die Ergebnistabelle muss nach dem gerundeten Gesamtpreis absteigend sortiert sein.\n",
    "\n",
    "<b style=\"color: gray;\">(max. erreichbare Punkte: 8)</b>"
   ]
  },
  {
   "cell_type": "code",
   "execution_count": null,
   "id": "c2d69f01",
   "metadata": {},
   "outputs": [],
   "source": [
    "# Engine für Datenbankverbindung erstellen\n",
    "\n",
    "\n",
    "# Abfrage erstellen und in DataFrame speichern\n",
    "\n",
    "\n",
    "# Datenbankverbindung trennen\n",
    "\n",
    "\n",
    "# Ergebnis anzeigen (Dataframe -Auschnitt genügt- mit Ergebnis der Abfrage)"
   ]
  },
  {
   "cell_type": "markdown",
   "id": "08bd20f4",
   "metadata": {},
   "source": [
    "##### <b>Aufgabe (6): Ermitteln Sie, welche Fahrzeuge im Januar 2024 verkauft wurden und zu welchem Verkaufspreis.</b>\n",
    "<b>Details zur Aufgabenstellung:</b>\n",
    "- Sie finden die benötigten Informationen in den Tabellen 'Sales', 'Cars', 'Customers' und 'Salespersons'.\n",
    "- Die Ergebnistabelle muss die CarID, Marke, Modell, Verkaufspreis, Verkaufsdatum sowie die Vornamen und Namen der Kunden und Verkäufer beinhalten.\n",
    "- Limitieren Sie die Anzahl der mit der SQL Abfrage zurückgegebenen Fahrzeuge auf 10.\n",
    "\n",
    "<b>Tip:</b> \n",
    "- Das Verkausdatum (SaleDate in der Tabelle Sale) ist pro Tag angegeben. Für eine Abfrage nach Monat kann die SQL clause 'BETWEEN' verwendet werden.\n",
    "\n",
    "<b style=\"color: gray;\">(max. erreichbare Punkte: 8)</b>"
   ]
  },
  {
   "cell_type": "code",
   "execution_count": null,
   "id": "504ca399",
   "metadata": {},
   "outputs": [],
   "source": [
    "# Engine für Datenbankverbindung erstellen\n",
    "\n",
    "\n",
    "# Abfrage erstellen und in DataFrame speichern\n",
    "\n",
    "\n",
    "# Datenbankverbindung trennen\n",
    "\n",
    "\n",
    "# Ergebnis anzeigen (Dataframe -Auschnitt genügt- mit Ergebnis der Abfrage)"
   ]
  },
  {
   "cell_type": "markdown",
   "id": "d67e3225",
   "metadata": {},
   "source": [
    "#### <b>Aufgabe (7): Ermitteln Sie die durchschnittlichen Servicekosten pro Mechaniker.</b>\n",
    "<b>Details zur Aufgabenstellung:</b>\n",
    "- Sie finden die benötigten Informationen in den Tabellen 'Mechanics' und 'ServiceRecords'.\n",
    "- Die Ergebnistabelle muss die Kontaktdaten (Vorname, Nachname, Telefonnummer, E-Mail) der Mechaniker enthalten\n",
    "- Die Ergebnistabelle muss nach den durchschnittlichen Servicekosten absteigend sortiert sein.\n",
    "- Die durchschnittlichen Servicekosten müssen auf zwei Nachkommastellen gerundet werden (z.B. 576.84).\n",
    "- Die Ergebnistabelle muss nach den durchschnittlichen Servicekosten absteigend sortiert sein.\n",
    "\n",
    "\n",
    "<b style=\"color: gray;\">(max. erreichbare Punkte: 8)</b>"
   ]
  },
  {
   "cell_type": "code",
   "execution_count": 28,
   "id": "909478da",
   "metadata": {},
   "outputs": [
    {
     "data": {
      "text/html": [
       "<div>\n",
       "<style scoped>\n",
       "    .dataframe tbody tr th:only-of-type {\n",
       "        vertical-align: middle;\n",
       "    }\n",
       "\n",
       "    .dataframe tbody tr th {\n",
       "        vertical-align: top;\n",
       "    }\n",
       "\n",
       "    .dataframe thead th {\n",
       "        text-align: right;\n",
       "    }\n",
       "</style>\n",
       "<table border=\"1\" class=\"dataframe\">\n",
       "  <thead>\n",
       "    <tr style=\"text-align: right;\">\n",
       "      <th></th>\n",
       "      <th>firstname</th>\n",
       "      <th>lastname</th>\n",
       "      <th>phone</th>\n",
       "      <th>email</th>\n",
       "      <th>AverageServiceCost</th>\n",
       "    </tr>\n",
       "  </thead>\n",
       "  <tbody>\n",
       "    <tr>\n",
       "      <th>0</th>\n",
       "      <td>Shannon</td>\n",
       "      <td>Larsen</td>\n",
       "      <td>+41 (0)41 390 74 67</td>\n",
       "      <td>shannon.larsen@example.com</td>\n",
       "      <td>383.88</td>\n",
       "    </tr>\n",
       "    <tr>\n",
       "      <th>1</th>\n",
       "      <td>Melissa</td>\n",
       "      <td>Miller</td>\n",
       "      <td>+41 (0)77 431 12 29</td>\n",
       "      <td>melissa.miller@example.com</td>\n",
       "      <td>374.70</td>\n",
       "    </tr>\n",
       "    <tr>\n",
       "      <th>2</th>\n",
       "      <td>Cynthia</td>\n",
       "      <td>Pittman</td>\n",
       "      <td>+41 (0)39 208 58 20</td>\n",
       "      <td>cynthia.pittman@example.com</td>\n",
       "      <td>366.16</td>\n",
       "    </tr>\n",
       "    <tr>\n",
       "      <th>3</th>\n",
       "      <td>Bryan</td>\n",
       "      <td>White</td>\n",
       "      <td>+41 (0)23 791 68 46</td>\n",
       "      <td>bryan.white@example.com</td>\n",
       "      <td>363.38</td>\n",
       "    </tr>\n",
       "    <tr>\n",
       "      <th>4</th>\n",
       "      <td>Tiffany</td>\n",
       "      <td>Wilson</td>\n",
       "      <td>+41 (0)22 475 52 27</td>\n",
       "      <td>tiffany.wilson@example.com</td>\n",
       "      <td>361.28</td>\n",
       "    </tr>\n",
       "    <tr>\n",
       "      <th>5</th>\n",
       "      <td>Bradley</td>\n",
       "      <td>Mckinney</td>\n",
       "      <td>+41 (0)23 859 32 52</td>\n",
       "      <td>bradley.mckinney@example.com</td>\n",
       "      <td>360.99</td>\n",
       "    </tr>\n",
       "    <tr>\n",
       "      <th>6</th>\n",
       "      <td>Lisa</td>\n",
       "      <td>Hall</td>\n",
       "      <td>+41 (0)56 904 84 24</td>\n",
       "      <td>lisa.hall@example.com</td>\n",
       "      <td>359.72</td>\n",
       "    </tr>\n",
       "    <tr>\n",
       "      <th>7</th>\n",
       "      <td>Erin</td>\n",
       "      <td>Williamson</td>\n",
       "      <td>+41 (0)65 305 62 20</td>\n",
       "      <td>erin.williamson@example.com</td>\n",
       "      <td>356.38</td>\n",
       "    </tr>\n",
       "    <tr>\n",
       "      <th>8</th>\n",
       "      <td>Courtney</td>\n",
       "      <td>Ford</td>\n",
       "      <td>+41 (0)50 651 77 58</td>\n",
       "      <td>courtney.ford@example.com</td>\n",
       "      <td>351.50</td>\n",
       "    </tr>\n",
       "    <tr>\n",
       "      <th>9</th>\n",
       "      <td>Cassandra</td>\n",
       "      <td>Sanford</td>\n",
       "      <td>+41 (0)26 322 84 52</td>\n",
       "      <td>cassandra.sanford@example.com</td>\n",
       "      <td>344.29</td>\n",
       "    </tr>\n",
       "  </tbody>\n",
       "</table>\n",
       "</div>"
      ],
      "text/plain": [
       "   firstname    lastname                phone                          email  \\\n",
       "0    Shannon      Larsen  +41 (0)41 390 74 67     shannon.larsen@example.com   \n",
       "1    Melissa      Miller  +41 (0)77 431 12 29     melissa.miller@example.com   \n",
       "2    Cynthia     Pittman  +41 (0)39 208 58 20    cynthia.pittman@example.com   \n",
       "3      Bryan       White  +41 (0)23 791 68 46        bryan.white@example.com   \n",
       "4    Tiffany      Wilson  +41 (0)22 475 52 27     tiffany.wilson@example.com   \n",
       "5    Bradley    Mckinney  +41 (0)23 859 32 52   bradley.mckinney@example.com   \n",
       "6       Lisa        Hall  +41 (0)56 904 84 24          lisa.hall@example.com   \n",
       "7       Erin  Williamson  +41 (0)65 305 62 20    erin.williamson@example.com   \n",
       "8   Courtney        Ford  +41 (0)50 651 77 58      courtney.ford@example.com   \n",
       "9  Cassandra     Sanford  +41 (0)26 322 84 52  cassandra.sanford@example.com   \n",
       "\n",
       "   AverageServiceCost  \n",
       "0              383.88  \n",
       "1              374.70  \n",
       "2              366.16  \n",
       "3              363.38  \n",
       "4              361.28  \n",
       "5              360.99  \n",
       "6              359.72  \n",
       "7              356.38  \n",
       "8              351.50  \n",
       "9              344.29  "
      ]
     },
     "execution_count": 28,
     "metadata": {},
     "output_type": "execute_result"
    }
   ],
   "source": [
    "# Engine für Datenbankverbindung erstellen\n",
    "engine = create_engine('sqlite:///car_dealer_data.db')\n",
    "# Abfrage erstellen und in DataFrame speichern\n",
    "df_sub = pd.read_sql_query(\"\"\"SELECT \n",
    "                                    m.firstname,\n",
    "                                    m.lastname,\n",
    "                                    m.phone,\n",
    "                                    m.email,\n",
    "                                    ROUND(AVG(sr.cost),2) AS AverageServiceCost\n",
    "                                FROM \n",
    "                                    mechanics AS m\n",
    "                                INNER JOIN \n",
    "                                    ServiceRecords AS sr ON m.mechanicID = sr.MechanicID\n",
    "                           GROUP BY m.firstname,\n",
    "                                    m.lastname,\n",
    "                                    m.phone,\n",
    "                                    m.email\n",
    "                           ORDER BY AverageServiceCost DESC;\"\"\",\n",
    "                          con=engine)\n",
    "\n",
    "# Datenbankverbindung trennen\n",
    "engine.dispose()\n",
    "df_sub \n",
    "\n",
    "# Ergebnis anzeigen (Dataframe -Auschnitt genügt- mit Ergebnis der Abfrage)"
   ]
  },
  {
   "cell_type": "markdown",
   "id": "51ec75c6",
   "metadata": {},
   "source": [
    "#### <b>Aufgabe (8): Ermitteln Sie, welche <u>nicht</u> verkauften Fahrzeuge, wie oft im Service waren und welche Servicekosten dabei entstanden sind.</b>\n",
    "<b>Details zur Aufgabenstellung:</b>\n",
    "- Sie finden die benötigten Informationen in den Tabellen 'Cars', 'Sales' und 'ServiceRecords'.\n",
    "- Erstellen Sie eine Ergebnistabelle, welche die CarID, Marke, Modell, Baujahr sowie die Anzahl der Services und Summe der Servicekosten für jedes Fahrzeug enthält.\n",
    "- Die Ergebnistabelle muss nach den Servicekosten absteigend sortiert sein.\n",
    "- Limitieren Sie die Anzahl der mit der SQL Abfrage zurückgegebenen Fahrzeuge auf 10.\n",
    "\n",
    "<b style=\"color: gray;\">(max. erreichbare Punkte: 8)</b>"
   ]
  },
  {
   "cell_type": "code",
   "execution_count": null,
   "id": "f15dbd26",
   "metadata": {},
   "outputs": [],
   "source": [
    "# Engine für Datenbankverbindung erstellen\n",
    "\n",
    "\n",
    "# Abfrage erstellen und in DataFrame speichern\n",
    "\n",
    "\n",
    "# Datenbankverbindung trennen\n",
    "\n",
    "\n",
    "# Ergebnis anzeigen (Dataframe -Auschnitt genügt- mit Ergebnis der Abfrage)"
   ]
  },
  {
   "attachments": {},
   "cell_type": "markdown",
   "id": "ff525b1e",
   "metadata": {},
   "source": [
    "### Jupyter notebook --footer info-- (please always provide this at the end of each notebook)"
   ]
  },
  {
   "cell_type": "code",
   "execution_count": null,
   "id": "e6cae5b2",
   "metadata": {},
   "outputs": [],
   "source": [
    "import os\n",
    "import platform\n",
    "import socket\n",
    "from platform import python_version\n",
    "from datetime import datetime\n",
    "\n",
    "print('-----------------------------------')\n",
    "print(os.name.upper())\n",
    "print(platform.system(), '|', platform.release())\n",
    "print('Datetime:', datetime.now().strftime(\"%Y-%m-%d %H:%M:%S\"))\n",
    "print('Python Version:', python_version())\n",
    "print('IP Address:', socket.gethostbyname(socket.gethostname()))\n",
    "print('-----------------------------------')"
   ]
  }
 ],
 "metadata": {
  "kernelspec": {
   "display_name": "Python 3",
   "language": "python",
   "name": "python3"
  },
  "language_info": {
   "codemirror_mode": {
    "name": "ipython",
    "version": 3
   },
   "file_extension": ".py",
   "mimetype": "text/x-python",
   "name": "python",
   "nbconvert_exporter": "python",
   "pygments_lexer": "ipython3",
   "version": "3.12.1"
  }
 },
 "nbformat": 4,
 "nbformat_minor": 5
}
